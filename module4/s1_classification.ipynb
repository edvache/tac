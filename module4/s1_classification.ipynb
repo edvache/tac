{
 "cells": [
  {
   "cell_type": "code",
   "execution_count": 23,
   "metadata": {},
   "outputs": [],
   "source": [
    "import matplotlib.pyplot as plt\n",
    "from nltk.corpus import stopwords\n",
    "import seaborn as sn\n",
    "from pprint import pprint\n",
    "import numpy as np\n",
    "\n",
    "from sklearn.datasets import fetch_20newsgroups\n",
    "# use annual index instead?\n",
    "from sklearn.model_selection import train_test_split\n",
    "from sklearn.naive_bayes import MultinomialNB\n",
    "from sklearn.pipeline import Pipeline\n",
    "from sklearn.feature_extraction.text import TfidfVectorizer\n",
    "from sklearn.metrics import confusion_matrix, classification_report"
   ]
  },
  {
   "cell_type": "markdown",
   "metadata": {},
   "source": [
    "# Chargement du dataset 20 newsgroups\n",
    "Pour plus d'information : https://scikit-learn.org/0.19/datasets/twenty_newsgroups.html"
   ]
  },
  {
   "cell_type": "code",
   "execution_count": 3,
   "metadata": {},
   "outputs": [],
   "source": [
    "news = fetch_20newsgroups(subset='all')"
   ]
  },
  {
   "cell_type": "code",
   "execution_count": 4,
   "metadata": {},
   "outputs": [
    {
     "name": "stdout",
     "output_type": "stream",
     "text": [
      "Number of articles: 18846\n"
     ]
    }
   ],
   "source": [
    "print(\"Number of articles: \" + str(len(news.data)))"
   ]
  },
  {
   "cell_type": "code",
   "execution_count": 5,
   "metadata": {},
   "outputs": [
    {
     "name": "stdout",
     "output_type": "stream",
     "text": [
      "Number of categories: 20\n"
     ]
    }
   ],
   "source": [
    "print(\"Number of categories: \" + str(len(news.target_names)))"
   ]
  },
  {
   "cell_type": "markdown",
   "metadata": {},
   "source": [
    "# Exploration du dataset"
   ]
  },
  {
   "cell_type": "code",
   "execution_count": 6,
   "metadata": {},
   "outputs": [
    {
     "name": "stdout",
     "output_type": "stream",
     "text": [
      "['alt.atheism',\n",
      " 'comp.graphics',\n",
      " 'comp.os.ms-windows.misc',\n",
      " 'comp.sys.ibm.pc.hardware',\n",
      " 'comp.sys.mac.hardware',\n",
      " 'comp.windows.x',\n",
      " 'misc.forsale',\n",
      " 'rec.autos',\n",
      " 'rec.motorcycles',\n",
      " 'rec.sport.baseball',\n",
      " 'rec.sport.hockey',\n",
      " 'sci.crypt',\n",
      " 'sci.electronics',\n",
      " 'sci.med',\n",
      " 'sci.space',\n",
      " 'soc.religion.christian',\n",
      " 'talk.politics.guns',\n",
      " 'talk.politics.mideast',\n",
      " 'talk.politics.misc',\n",
      " 'talk.religion.misc']\n"
     ]
    }
   ],
   "source": [
    "labels = news.target_names\n",
    "pprint(labels)"
   ]
  },
  {
   "cell_type": "code",
   "execution_count": 7,
   "metadata": {},
   "outputs": [
    {
     "name": "stdout",
     "output_type": "stream",
     "text": [
      "===== rec.sport.hockey =====\n",
      "From: Mamatha Devineni Ratnam <mr47+@andrew.cmu.edu> Subject: Pens fans reactions Organization: Post Office, Carnegie Mellon, Pittsburgh, PA Lines: 12 NNTP-Posting-Host: po4.andrew.cmu.edu    I am sure some bashers of Pens fans are pretty confused about the lack of any kind of posts about the recent Pens massacre of the Devils. Actually, I am  bit puzzled too and a bit relieved. However, I am going to put an end to non-PIttsburghers' relief with a bit of praise for the Pens. Man, they are killing those Devils worse than I thought. Jagr just showed you why he is much better than his regular season stats. He is also a lot fo fun to watch in the playoffs. Bowman should let JAgr have a lot of fun in the next couple of games since the Pens are going to beat the pulp out of Jersey anyway. I was very disappointed not to see the Islanders lose the final regular season game.          PENS RULE!!!   \n",
      "\n",
      "===== comp.sys.ibm.pc.hardware =====\n",
      "From: mblawson@midway.ecn.uoknor.edu (Matthew B Lawson) Subject: Which high-performance VLB video card? Summary: Seek recommendations for VLB video card Nntp-Posting-Host: midway.ecn.uoknor.edu Organization: Engineering Computer Network, University of Oklahoma, Norman, OK, USA Keywords: orchid, stealth, vlb Lines: 21    My brother is in the market for a high-performance video card that supports VESA local bus with 1-2MB RAM.  Does anyone have suggestions/ideas on:    - Diamond Stealth Pro Local Bus    - Orchid Farenheit 1280    - ATI Graphics Ultra Pro    - Any other high-performance VLB card   Please post or email.  Thank you!    - Matt  --      |  Matthew B. Lawson <------------> (mblawson@essex.ecn.uoknor.edu)  |      --+-- \"Now I, Nebuchadnezzar, praise and exalt and glorify the King  --+--      |   of heaven, because everything he does is right and all his ways  |        |   are just.\" - Nebuchadnezzar, king of Babylon, 562 B.C.           |     \n",
      "\n",
      "===== talk.politics.mideast =====\n",
      "From: hilmi-er@dsv.su.se (Hilmi Eren) Subject: Re: ARMENIA SAYS IT COULD SHOOT DOWN TURKISH PLANES (Henrik) Lines: 95 Nntp-Posting-Host: viktoria.dsv.su.se Reply-To: hilmi-er@dsv.su.se (Hilmi Eren) Organization: Dept. of Computer and Systems Sciences, Stockholm University     |>The student of \"regional killings\" alias Davidian (not the Davidian religios sect) writes:   |>Greater Armenia would stretch from Karabakh, to the Black Sea, to the |>Mediterranean, so if you use the term \"Greater Armenia\" use it with care.   \tFinally you said what you dream about. Mediterranean???? That was new.... \tThe area will be \"greater\" after some years, like your \"holocaust\" numbers......     |>It has always been up to the Azeris to end their announced winning of Karabakh  |>by removing the Armenians! When the president of Azerbaijan, Elchibey, came to  |>power last year, he announced he would be be \"swimming in Lake Sevan [in  |>Armeniaxn] by July\". \t\t***** \tIs't July in USA now????? Here in Sweden it's April and still cold. \tOr have you changed your calendar???   |>Well, he was wrong! If Elchibey is going to shell the  |>Armenians of Karabakh from Aghdam, his people will pay the price! If Elchibey  \t\t\t\t\t\t    **************** |>is going to shell Karabakh from Fizuli his people will pay the price! If  \t\t\t\t\t\t    ****************** |>Elchibey thinks he can get away with bombing Armenia from the hills of  |>Kelbajar, his people will pay the price.  \t\t\t    ***************   \tNOTHING OF THE MENTIONED IS TRUE, BUT LET SAY IT's TRUE. \t \tSHALL THE AZERI WOMEN AND CHILDREN GOING TO PAY THE PRICE WITH \t\t\t\t\t\t    ************** \tBEING RAPED, KILLED AND TORTURED BY THE ARMENIANS?????????? \t \tHAVE YOU HEARDED SOMETHING CALLED: \"GENEVA CONVENTION\"??????? \tYOU FACIST!!!!!    \tOhhh i forgot, this is how Armenians fight, nobody has forgot \tyou killings, rapings and torture against the Kurds and Turks once \tupon a time!                 |>And anyway, this \"60  |>Kurd refugee\" story, as have other stories, are simple fabrications sourced in  |>Baku, modified in Ankara. Other examples of this are Armenia has no border  |>with Iran, and the ridiculous story of the \"intercepting\" of Armenian military  |>conversations as appeared in the New York Times supposedly translated by  |>somebody unknown, from Armenian into Azeri Turkish, submitted by an unnamed  |>\"special correspondent\" to the NY Times from Baku. Real accurate!  Ohhhh so swedish RedCross workers do lie they too? What ever you say \"regional killer\", if you don't like the person then shoot him that's your policy.....l   |>[HE]\tSearch Turkish planes? You don't know what you are talking about.<------- |>[HE]\tsince it's content is announced to be weapons? \t\t\t\ti\t  \t\t\t\t\t\t\t\t\t\ti |>Well, big mouth Ozal said military weapons are being provided to Azerbaijan\ti |>from Turkey, yet Demirel and others say no. No wonder you are so confused!\ti \t\t\t\t\t\t\t\t\t\ti \t\t\t\t\t\t\t\t\t\ti \tConfused?????\t\t\t\t\t\t\t\ti \tYou facist when you delete text don't change it, i wrote:\t\ti \t\t\t\t\t\t\t\t\t\ti         Search Turkish planes? You don't know what you are talking about.\ti         Turkey's government has announced that it's giving weapons  <-----------i         to Azerbadjan since Armenia started to attack Azerbadjan\t\t         it self, not the Karabag province. So why search a plane for weapons\t         since it's content is announced to be weapons?     \tIf there is one that's confused then that's you! We have the right (and we do) \tto give weapons to the Azeris, since Armenians started the fight in Azerbadjan!    |>You are correct, all Turkish planes should be simply shot down! Nice, slow |>moving air transports!  \tShoot down with what? Armenian bread and butter? Or the arms and personel  \tof the Russian army?     Hilmi Eren Stockholm University  \n",
      "\n",
      "===== comp.sys.ibm.pc.hardware =====\n",
      "From: guyd@austin.ibm.com (Guy Dawson) Subject: Re: IDE vs SCSI, DMA and detach Originator: guyd@pal500.austin.ibm.com Organization: IBM Austin Lines: 60   In article <1993Apr19.034517.12820@julian.uwo.ca>, wlsmith@valve.heart.rri.uwo.ca (Wayne Smith) writes: > In article <RICHK.93Apr15075248@gozer.grebyn.com> richk@grebyn.com (Richard Krehbiel) writes: > >>     Can anyone explain in fairly simple terms why, if I get OS/2, I might  > >>   need an SCSI controler rather than an IDE.  Will performance suffer that > >>   much?  For a 200MB or so drive?  If I don't have a tape drive or CD-ROM? > >>   Any help would be appreciated. >  > >So, when you've got multi-tasking, you want to increase performance by > >increasing the amount of overlapping you do. > > > >One way is with DMA or bus mastering.  Either of these make it > >possible for I/O devices to move their data into and out of memory > >without interrupting the CPU.  The alternative is for the CPU to move > >the data.  There are several SCSI interface cards that allow DMA and > >bus mastering. >  ^^^^^^^^^^^^ > How do you do bus-mastering on the ISA bus? >  > >IDE, however, is defined by the standard AT interface > >created for the IBM PC AT, which requires the CPU to move all the data > >bytes, with no DMA. >  > If we're talking ISA (AT) bus here, then you can only have 1 DMA channel > active at any one time, presumably transferring data from a single device. > So even though you can have at least 7 devices on a SCSI bus, explain how > all 7 of those devices can to DMA transfers through a single SCSI card > to the ISA-AT bus at the same time.  Think!  It's the SCSI card doing the DMA transfers NOT the disks...  The SCSI card can do DMA transfers containing data from any of the SCSI devices it is attached when it wants to.  An important feature of SCSI is the ability to detach a device. This frees the SCSI bus for other devices. This is typically used in a multi-tasking OS to start transfers on several devices. While each device is seeking the data the bus is free for other commands and data transfers. When the devices are ready to transfer the data they can aquire the bus and send the data.  On an IDE bus when you start a transfer the bus is busy until the disk has seeked the data and transfered it. This is typically a 10-20ms second lock out for other processes wanting the bus irrespective of transfer time.  >  > Also, I'm still trying to track down a copy of IBM's AT reference book, > but from their PC technical manual (page 2-93): >  > \"The (FDD) adapter is buffered on the I.O bus and uses the System Board > direct memory access (DMA) for record data transfers.\" > I expect to see something similar for the PC-AT HDD adapter.   > So the lowly low-density original PC FDD card used DMA and the PC-AT > HDD controller doesn't!?!?  That makes real sense. --  -- ----------------------------------------------------------------------------- Guy Dawson - Hoskyns Group Plc.         guyd@hoskyns.co.uk  Tel Hoskyns UK     -  71 251 2128         guyd@austin.ibm.com Tel IBM Austin USA - 512 838 3377  \n",
      "\n",
      "===== comp.sys.mac.hardware =====\n",
      "From: Alexander Samuel McDiarmid <am2o+@andrew.cmu.edu> Subject: driver ?? Organization: Sophomore, Mechanical Engineering, Carnegie Mellon, Pittsburgh, PA Lines: 15 NNTP-Posting-Host: po4.andrew.cmu.edu    1)    I have an old Jasmine drive which I cannot use with my new system.  My understanding is that I have to upsate the driver with a more modern one in order to gain compatability with system 7.0.1.  does anyone know of an inexpensive program to do this?  ( I have seen formatters for <$20 buit have no idea if they will work)   2)     I have another ancient device, this one a tape drive for which the back utility freezes the system if I try to use it.  THe drive is a jasmine direct tape (bought used for $150 w/ 6 tapes, techmar mechanism).  Essentially I have the same question as above, anyone know of an inexpensive beckup utility I can use with system 7.0.1   all help and advice appriciated.   \n",
      "\n",
      "===== sci.electronics =====\n",
      "From: tell@cs.unc.edu (Stephen Tell) Subject: Re: subliminal message flashing on TV Organization: The University of North Carolina at Chapel Hill Lines: 25 NNTP-Posting-Host: rukbat.cs.unc.edu  In article <7480237@hpfcso.FC.HP.COM> myers@hpfcso.FC.HP.COM (Bob Myers) writes: >> Hi.  I was doing research on subliminal suggestion for a psychology >> paper, and I read that one researcher flashed hidden messages on the >> TV screen at 1/200ths of a second.  Is that possible?  > Might >even be a vector (\"strokewriter\") display, in which case the lower limit >on image time is anyone's guess (and is probably phosphor-persistence limited).  Back in high school I worked as a lab assistant for a bunch of experimental psychologists at Bell Labs.  When they were doing visual perception and memory experiments, they used vector-type displays, with 1-millisecond refresh rates common.  So your case of 1/200th sec is quite practical, and the experimenters were probably sure that it was 5 milliseconds, not 4 or 6 either.  >Bob Myers  KC0EW >myers@fc.hp.com   Steve --  Steve Tell       tell@cs.unc.edu H: 919 968 1792  | #5L Estes Park apts UNC Chapel Hill Computer Science W: 919 962 1845  | Carrboro NC 27510 Engineering is a _lot_ like art:  Some circuits are like lyric poems, some are like army manuals, and some are like The Hitchhiker's Guide to the Galaxy..  \n",
      "\n",
      "===== comp.sys.mac.hardware =====\n",
      "From: lpa8921@tamuts.tamu.edu (Louis Paul Adams) Subject: Re: Number for Applied Engineering Organization: Texas A&M University, College Station Lines: 9 NNTP-Posting-Host: tamuts.tamu.edu  >Anyone have a phone number for Applied Engineering so I can give them >a call?   AE is in Dallas...try 214/241-6060 or 214/241-0055.  Tech support may be on their own line, but one of these should get you started.  Good luck!   \n",
      "\n",
      "===== rec.sport.hockey =====\n",
      "From: dchhabra@stpl.ists.ca (Deepak Chhabra) Subject: Re: Atlanta Hockey Hell!! Nntp-Posting-Host: stpl.ists.ca Organization: Solar Terresterial Physics Laboratory, ISTS Lines: 24  In article <0foVj7i00WB4MIUmht@andrew.cmu.edu> Mamatha Devineni Ratnam <mr47+@andrew.cmu.edu> writes: > >Well, it's not that bad. But I am still pretty pissed of at the >local ABC coverage. They cut off the first half hour of coverage by playing  [stuff deleted]  Ok, here's the solution to your problem.  Move to Canada.  Yesterday I was able to watch FOUR games...the NJ-PITT at 1:00 on ABC, LA-CAL at 3:00 (CBC),  BUFF-BOS at 7:00 (TSN and FOX), and MON-QUE at 7:30 (CBC).  I think that if each series goes its max I could be watching hockey playoffs for 40-some odd consecutive nights (I haven't counted so that's a pure guess).  I have two tv's in my house, and I set them up side-by-side to watch MON-QUE and keep an eye on BOS-BUFF at the same time.  I did the same for the two afternoon games.  Btw, those ABC commentaters were great!  I was quite impressed; they seemed to know that their audience wasn't likely to be well-schooled in hockey lore and they did an excellent job.  They were quite impartial also, IMO.    dchhabra@stpl.ists.ca (not suffering from a shortage of hockey here)  \n",
      "\n",
      "===== rec.sport.hockey =====\n",
      "From: dchhabra@stpl.ists.ca (Deepak Chhabra) Subject: Re: Goalie masks Nntp-Posting-Host: stpl.ists.ca Organization: Solar Terresterial Physics Laboratory, ISTS Lines: 15  In article <C5sqz3.EG8@acsu.buffalo.edu> hammerl@acsu.buffalo.edu (Valerie S. Hammerl) writes:  >>[...] and I'll give Fuhr's new one an honourable mention, although I haven't >>seen it closely yet (it looked good from a distance!).    >This is the new Buffalo one, the second since he's been with the >Sabres?  I recall a price tag of over $700 just for the paint job on >that mask, and a total price of almost $1500.  Ouch.    Yeah, it's the second one.  And I believe that price too.  I've been trying to get a good look at it on the Bruin-Sabre telecasts, and wow! does it ever look good.  Whoever did that paint job knew what they were doing.  And given Fuhr's play since he got it, I bet the Bruins are wishing he didn't have it:)  --  \n",
      "\n",
      "===== talk.religion.misc =====\n",
      "From: arromdee@jyusenkyou.cs.jhu.edu (Ken Arromdee) Subject: Re: Christians above the Law? was Clarification of pe Organization: Johns Hopkins University CS Dept. Lines: 13  In article <C61Kow.E4z@mailer.cc.fsu.edu> dlecoint@garnet.acns.fsu.edu (Darius_Lecointe) writes: >>Jesus was a JEW, not a Christian.  If a Christian means someone who believes in the divinity of Jesus, it is safe to say that Jesus was a Christian. -- \"On the first day after Christmas my truelove served to me...  Leftover Turkey! On the second day after Christmas my truelove served to me...  Turkey Casserole     that she made from Leftover Turkey. [days 3-4 deleted] ...  Flaming Turkey Wings! ...    -- Pizza Hut commercial (and M*tlu/A*gic bait)  Ken Arromdee (arromdee@jyusenkyou.cs.jhu.edu)  \n",
      "\n"
     ]
    }
   ],
   "source": [
    "# Exemples d'articles et de labels\n",
    "for i, article in enumerate(news.data[:10]):\n",
    "    print(f'===== {labels[news.target[i]]} =====')\n",
    "    print(article.replace('\\n', ' '), '\\n')"
   ]
  },
  {
   "cell_type": "markdown",
   "metadata": {},
   "source": [
    "# Création d'un modèle de machine learning avec Scikit-Learn\n",
    "Pour plus d'information :\n",
    "- Pipeline : https://scikit-learn.org/stable/modules/generated/sklearn.pipeline.Pipeline.html\n",
    "- TfidfVectorizer : https://scikit-learn.org/stable/modules/generated/sklearn.feature_extraction.text.TfidfVectorizer.html\n",
    "- MultinomialNB : https://scikit-learn.org/stable/modules/generated/sklearn.naive_bayes.MultinomialNB.html"
   ]
  },
  {
   "cell_type": "code",
   "execution_count": 13,
   "metadata": {},
   "outputs": [],
   "source": [
    "classifier = Pipeline([\n",
    "    ('vectorizer', TfidfVectorizer(stop_words=stopwords.words('english'))),\n",
    "    ('classifier', MultinomialNB()),\n",
    "    ])"
   ]
  },
  {
   "cell_type": "markdown",
   "metadata": {},
   "source": [
    "# Séparation du dataset en features et target (X, y) et en train et test\n",
    "Plus d'information : https://scikit-learn.org/stable/modules/generated/sklearn.model_selection.train_test_split.html"
   ]
  },
  {
   "cell_type": "code",
   "execution_count": 14,
   "metadata": {},
   "outputs": [],
   "source": [
    "labelled_target = np.array([labels[t] for t in news.target])"
   ]
  },
  {
   "cell_type": "code",
   "execution_count": 15,
   "metadata": {},
   "outputs": [],
   "source": [
    "X_train, X_test, y_train, y_test = train_test_split(news.data, labelled_target, test_size=0.2, random_state=11)"
   ]
  },
  {
   "cell_type": "markdown",
   "metadata": {},
   "source": [
    "# Entraînement du modèle de machine learning sur les données d'entrainement"
   ]
  },
  {
   "cell_type": "code",
   "execution_count": 16,
   "metadata": {},
   "outputs": [
    {
     "data": {
      "text/plain": [
       "Pipeline(steps=[('vectorizer',\n",
       "                 TfidfVectorizer(stop_words=['i', 'me', 'my', 'myself', 'we',\n",
       "                                             'our', 'ours', 'ourselves', 'you',\n",
       "                                             \"you're\", \"you've\", \"you'll\",\n",
       "                                             \"you'd\", 'your', 'yours',\n",
       "                                             'yourself', 'yourselves', 'he',\n",
       "                                             'him', 'his', 'himself', 'she',\n",
       "                                             \"she's\", 'her', 'hers', 'herself',\n",
       "                                             'it', \"it's\", 'its', 'itself', ...])),\n",
       "                ('classifier', MultinomialNB())])"
      ]
     },
     "execution_count": 16,
     "metadata": {},
     "output_type": "execute_result"
    }
   ],
   "source": [
    "classifier.fit(X_train, y_train)"
   ]
  },
  {
   "cell_type": "markdown",
   "metadata": {},
   "source": [
    "# Prédiction des targets des données de test"
   ]
  },
  {
   "cell_type": "code",
   "execution_count": 17,
   "metadata": {},
   "outputs": [],
   "source": [
    "y_pred = classifier.predict(X_test)"
   ]
  },
  {
   "cell_type": "code",
   "execution_count": 18,
   "metadata": {},
   "outputs": [
    {
     "data": {
      "text/plain": [
       "array(['sci.crypt', 'comp.os.ms-windows.misc', 'sci.med', ...,\n",
       "       'rec.sport.baseball', 'comp.windows.x', 'misc.forsale'],\n",
       "      dtype='<U24')"
      ]
     },
     "execution_count": 18,
     "metadata": {},
     "output_type": "execute_result"
    }
   ],
   "source": [
    "# Aperçu des targets prédites\n",
    "y_pred"
   ]
  },
  {
   "cell_type": "code",
   "execution_count": 19,
   "metadata": {},
   "outputs": [
    {
     "data": {
      "text/plain": [
       "array(['sci.crypt', 'comp.os.ms-windows.misc', 'sci.med', ...,\n",
       "       'rec.sport.baseball', 'comp.graphics', 'misc.forsale'],\n",
       "      dtype='<U24')"
      ]
     },
     "execution_count": 19,
     "metadata": {},
     "output_type": "execute_result"
    }
   ],
   "source": [
    "# Aperçu des targets réelles\n",
    "y_test"
   ]
  },
  {
   "cell_type": "markdown",
   "metadata": {},
   "source": [
    "# Construction du rapport de classification\n",
    "Pour plus d'information sur la précision, le recall et le f1-score : https://fr.wikipedia.org/wiki/Pr%C3%A9cision_et_rappel"
   ]
  },
  {
   "cell_type": "code",
   "execution_count": 20,
   "metadata": {},
   "outputs": [
    {
     "name": "stdout",
     "output_type": "stream",
     "text": [
      "                          precision    recall  f1-score   support\n",
      "\n",
      "             alt.atheism       0.92      0.83      0.87       172\n",
      "           comp.graphics       0.90      0.85      0.87       184\n",
      " comp.os.ms-windows.misc       0.89      0.81      0.85       204\n",
      "comp.sys.ibm.pc.hardware       0.75      0.83      0.79       195\n",
      "   comp.sys.mac.hardware       0.94      0.88      0.91       195\n",
      "          comp.windows.x       0.94      0.91      0.92       204\n",
      "            misc.forsale       0.84      0.79      0.82       164\n",
      "               rec.autos       0.88      0.93      0.90       180\n",
      "         rec.motorcycles       0.92      0.98      0.95       173\n",
      "      rec.sport.baseball       0.96      0.94      0.95       217\n",
      "        rec.sport.hockey       0.87      0.98      0.92       178\n",
      "               sci.crypt       0.84      0.99      0.91       197\n",
      "         sci.electronics       0.93      0.87      0.90       199\n",
      "                 sci.med       0.95      0.98      0.96       183\n",
      "               sci.space       0.91      0.98      0.94       207\n",
      "  soc.religion.christian       0.71      0.96      0.82       211\n",
      "      talk.politics.guns       0.81      0.97      0.88       208\n",
      "   talk.politics.mideast       0.95      0.96      0.96       200\n",
      "      talk.politics.misc       0.96      0.62      0.76       175\n",
      "      talk.religion.misc       1.00      0.30      0.46       124\n",
      "\n",
      "                accuracy                           0.88      3770\n",
      "               macro avg       0.89      0.87      0.87      3770\n",
      "            weighted avg       0.89      0.88      0.87      3770\n",
      "\n"
     ]
    }
   ],
   "source": [
    "print(classification_report(y_test, y_pred))"
   ]
  },
  {
   "cell_type": "markdown",
   "metadata": {},
   "source": [
    "# Création d'une matrice de confusion"
   ]
  },
  {
   "cell_type": "code",
   "execution_count": 24,
   "metadata": {},
   "outputs": [
    {
     "ename": "ModuleNotFoundError",
     "evalue": "No module named 'scikitplot'",
     "output_type": "error",
     "traceback": [
      "\u001b[0;31m---------------------------------------------------------------------------\u001b[0m",
      "\u001b[0;31mModuleNotFoundError\u001b[0m                       Traceback (most recent call last)",
      "\u001b[0;32m<ipython-input-24-c95f2fe460ce>\u001b[0m in \u001b[0;36m<module>\u001b[0;34m\u001b[0m\n\u001b[0;32m----> 1\u001b[0;31m \u001b[0;32mfrom\u001b[0m \u001b[0mscikitplot\u001b[0m\u001b[0;34m.\u001b[0m\u001b[0mmetrics\u001b[0m \u001b[0;32mimport\u001b[0m \u001b[0mplot_confusion_matrix\u001b[0m\u001b[0;34m\u001b[0m\u001b[0;34m\u001b[0m\u001b[0m\n\u001b[0m",
      "\u001b[0;31mModuleNotFoundError\u001b[0m: No module named 'scikitplot'"
     ]
    }
   ],
   "source": [
    "from scikitplot.metrics import plot_confusion_matrix"
   ]
  },
  {
   "cell_type": "code",
   "execution_count": 25,
   "metadata": {},
   "outputs": [
    {
     "ename": "NameError",
     "evalue": "name 'plot_confusion_matrix' is not defined",
     "output_type": "error",
     "traceback": [
      "\u001b[0;31m---------------------------------------------------------------------------\u001b[0m",
      "\u001b[0;31mNameError\u001b[0m                                 Traceback (most recent call last)",
      "\u001b[0;32m<ipython-input-25-a67959503482>\u001b[0m in \u001b[0;36m<module>\u001b[0;34m\u001b[0m\n\u001b[0;32m----> 1\u001b[0;31m \u001b[0mplot_confusion_matrix\u001b[0m\u001b[0;34m(\u001b[0m\u001b[0my_test\u001b[0m\u001b[0;34m,\u001b[0m \u001b[0my_pred\u001b[0m\u001b[0;34m,\u001b[0m \u001b[0mfigsize\u001b[0m\u001b[0;34m=\u001b[0m\u001b[0;34m(\u001b[0m\u001b[0;36m10\u001b[0m\u001b[0;34m,\u001b[0m \u001b[0;36m10\u001b[0m\u001b[0;34m)\u001b[0m\u001b[0;34m,\u001b[0m \u001b[0mlabels\u001b[0m\u001b[0;34m=\u001b[0m\u001b[0mlabels\u001b[0m\u001b[0;34m,\u001b[0m \u001b[0mx_tick_rotation\u001b[0m\u001b[0;34m=\u001b[0m\u001b[0;36m90\u001b[0m\u001b[0;34m)\u001b[0m\u001b[0;34m\u001b[0m\u001b[0;34m\u001b[0m\u001b[0m\n\u001b[0m",
      "\u001b[0;31mNameError\u001b[0m: name 'plot_confusion_matrix' is not defined"
     ]
    }
   ],
   "source": [
    "plot_confusion_matrix(y_test, y_pred, figsize=(10, 10), labels=labels, x_tick_rotation=90)"
   ]
  },
  {
   "cell_type": "code",
   "execution_count": null,
   "metadata": {},
   "outputs": [],
   "source": []
  }
 ],
 "metadata": {
  "kernelspec": {
   "display_name": "Python 3",
   "language": "python",
   "name": "python3"
  },
  "language_info": {
   "codemirror_mode": {
    "name": "ipython",
    "version": 3
   },
   "file_extension": ".py",
   "mimetype": "text/x-python",
   "name": "python",
   "nbconvert_exporter": "python",
   "pygments_lexer": "ipython3",
   "version": "3.7.9"
  }
 },
 "nbformat": 4,
 "nbformat_minor": 2
}
